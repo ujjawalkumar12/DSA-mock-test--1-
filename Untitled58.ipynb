{
 "cells": [
  {
   "cell_type": "markdown",
   "id": "006ea6fb",
   "metadata": {},
   "source": [
    "First Unique Character in a String\n",
    "\n",
    "Given a string s, find the first non-repeating character in it and return its index. If it does not exist, return -1.\n",
    "\n",
    "Example 1:\n",
    "Input: s = \"leetcode\"\n",
    "Output: 0\n",
    "\n",
    "Example 2:\n",
    "Input: s = \"loveleetcode\"\n",
    "Output: 2\n",
    "\n",
    "Example 3:\n",
    "Input: s = \"aabb\"\n",
    "Output: -1\n",
    "\n",
    "Constraints:\n",
    "a. 1 <= s.length <= 10^5\n",
    "b. s consists of only lowercase English letters.\n"
   ]
  },
  {
   "cell_type": "markdown",
   "id": "a692252b",
   "metadata": {},
   "source": [
    "Answer-\n",
    "\n",
    "\n",
    "To find the first non-repeating character in a string, we can iterate through the string and count the occurrences of each character using a dictionary. Then, we iterate through the string again and return the index of the first character with a count of 1.\n",
    "\n",
    "Here's the step-by-step algorithm to solve this problem:\n",
    "\n",
    "1. Initialize an empty dictionary to store the character counts.\n",
    "2. Iterate through the string and increment the count for each character in the dictionary.\n",
    "3. Iterate through the string again and check the count for each character in the dictionary.\n",
    "4. Return the index of the first character with a count of 1.\n",
    "5. If no such character is found, return -1.\n",
    "\n",
    "\n",
    "Here's the implementation in Python:"
   ]
  },
  {
   "cell_type": "code",
   "execution_count": 1,
   "id": "f5d5a474",
   "metadata": {},
   "outputs": [],
   "source": [
    "def firstUniqChar(s):\n",
    "    char_counts = {}\n",
    "    for char in s:\n",
    "        char_counts[char] = char_counts.get(char, 0) + 1\n",
    "\n",
    "    for i, char in enumerate(s):\n",
    "        if char_counts[char] == 1:\n",
    "            return i\n",
    "\n",
    "    return -1\n"
   ]
  },
  {
   "cell_type": "markdown",
   "id": "049efc7f",
   "metadata": {},
   "source": [
    "Let's test it with the provided examples:"
   ]
  },
  {
   "cell_type": "code",
   "execution_count": 2,
   "id": "dea53cd6",
   "metadata": {},
   "outputs": [
    {
     "name": "stdout",
     "output_type": "stream",
     "text": [
      "0\n",
      "2\n",
      "-1\n"
     ]
    }
   ],
   "source": [
    "s1 = \"leetcode\"\n",
    "print(firstUniqChar(s1))  # Output: 0\n",
    "\n",
    "s2 = \"loveleetcode\"\n",
    "print(firstUniqChar(s2))  # Output: 2\n",
    "\n",
    "s3 = \"aabb\"\n",
    "print(firstUniqChar(s3))  # Output: -1\n"
   ]
  },
  {
   "cell_type": "markdown",
   "id": "d9622ae8",
   "metadata": {},
   "source": [
    "The algorithm should correctly find the index of the first non-repeating character in each string or return -1 if no such character exists."
   ]
  }
 ],
 "metadata": {
  "kernelspec": {
   "display_name": "Python 3 (ipykernel)",
   "language": "python",
   "name": "python3"
  },
  "language_info": {
   "codemirror_mode": {
    "name": "ipython",
    "version": 3
   },
   "file_extension": ".py",
   "mimetype": "text/x-python",
   "name": "python",
   "nbconvert_exporter": "python",
   "pygments_lexer": "ipython3",
   "version": "3.9.12"
  }
 },
 "nbformat": 4,
 "nbformat_minor": 5
}
